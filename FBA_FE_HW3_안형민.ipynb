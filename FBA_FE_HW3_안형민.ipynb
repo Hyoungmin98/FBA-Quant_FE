{
 "cells": [
  {
   "cell_type": "code",
   "execution_count": 67,
   "id": "346d42cc",
   "metadata": {},
   "outputs": [
    {
     "name": "stdout",
     "output_type": "stream",
     "text": [
      "American Call Option Price: 3.1521785977429713\n"
     ]
    }
   ],
   "source": [
    "# 1\n",
    "\n",
    "#(a)\n",
    "import numpy as np\n",
    "import math\n",
    "\n",
    "\n",
    "# Parameters\n",
    "S_0 = 100  \n",
    "T = 0.25  \n",
    "r = 0.02  \n",
    "sigma = 0.3 \n",
    "c = 0.01  \n",
    "u = 1.0395  \n",
    "strike = 110  \n",
    "N = 15  \n",
    "\n",
    "dt = T / N  \n",
    "R_n = math.exp(r*dt)\n",
    "u_n = math.exp(sigma*np.sqrt(dt))\n",
    "d_n = 1/u_n\n",
    "q_n = (math.exp((r-c)*dt) - d_n)/(u_n - d_n)\n",
    "\n",
    "\n",
    "tree = np.zeros((N+1, N+1))\n",
    "\n",
    "for i in range(N+1):\n",
    "    for j in range(i+1):\n",
    "        tree[i,j] = S_0 * (u_n**j) * (d_n**(i-j))\n",
    "\n",
    "price_tree = np.zeros((N+1, N+1))\n",
    "\n",
    "for j in range(N+1):\n",
    "        price_tree[N, j] = max(tree[N, j] - strike, 0)\n",
    "        \n",
    "for i in range(N-1, -1, -1):\n",
    "    for j in range(i+1):\n",
    "        exercise_value = tree[i, j] - strike\n",
    "        continue_value = (q_n * price_tree[i+1, j] + (1 - q_n) * price_tree[i+1, j+1]) / R_n\n",
    "        price_tree[i, j] = max(continue_value, exercise_value)\n",
    "        \n",
    "american_call_price = price_tree[0,0]\n",
    "\n",
    "# American call option price\n",
    "print(\"American Call Option Price:\", american_call_price)\n"
   ]
  },
  {
   "cell_type": "code",
   "execution_count": 7,
   "id": "8aa7f420",
   "metadata": {},
   "outputs": [
    {
     "name": "stdout",
     "output_type": "stream",
     "text": [
      "the price of an American put option: 12.359784797284908\n"
     ]
    }
   ],
   "source": [
    "#(b)\n",
    "\n",
    "# 옵션 타입 (콜/풋)을 지정하는 변수 추가\n",
    "option_type = 'put'  # 'call' 또는 'put'\n",
    "\n",
    "# 옵션 가격 계산\n",
    "option_prices = np.zeros((N + 1, N + 1))\n",
    "for j in range(N + 1):\n",
    "    option_prices[j, N] = max(0, K - stock_prices[j, N]) if option_type == 'put' else max(0, stock_prices[j, N] - K)\n",
    "\n",
    "for i in range(N - 1, -1, -1):\n",
    "    for j in range(i + 1):\n",
    "        exercise_value = max(0, K - stock_prices[j, i]) if option_type == 'put' else max(0, stock_prices[j, i] - K)\n",
    "        continuation_value = np.exp(-r * dt) * (q * option_prices[j, i + 1] + (1 - q) * option_prices[j + 1, i + 1])\n",
    "        option_prices[j, i] = max(exercise_value, continuation_value)\n",
    "\n",
    "# 결과 출력\n",
    "print(\"the price of an American put option:\", option_prices[0, 0])"
   ]
  },
  {
   "cell_type": "code",
   "execution_count": 61,
   "id": "58a4bcbf",
   "metadata": {},
   "outputs": [
    {
     "name": "stdout",
     "output_type": "stream",
     "text": [
      "European Call Option Price: 2.448789266439307\n",
      "American Call Option Price: 2.677742909892942\n"
     ]
    }
   ],
   "source": [
    "# 2\n",
    "\n",
    "# (a)\n",
    "import numpy as np\n",
    "import math\n",
    "\n",
    "\n",
    "# Parameters\n",
    "S_0 = 100\n",
    "T = 2  \n",
    "strike = 100 \n",
    "rf = 1.0001  \n",
    "u = 1.05  \n",
    "d = 1/u  \n",
    "N = 2\n",
    "\n",
    "q = (rf-d)/(u-d)\n",
    "\n",
    "\n",
    "S_uu = S_0*u*u\n",
    "S_ud = S_0*u*d\n",
    "S_dd = S_0*d*d\n",
    "\n",
    "payoff_S_uu = max(S_uu - strike,0)\n",
    "payoff_S_ud = max(S_ud - strike,0)\n",
    "payoff_S_dd = max(S_dd - strike,0)\n",
    "\n",
    "european_call_price = (q**2*payoff_S_uu + 2*q*(1-q)*payoff_S_ud + (1-q)**2*payoff_S_dd) / rf**2\n",
    "\n",
    "# European call option price\n",
    "print(\"European Call Option Price:\", european_call_price)\n",
    "\n",
    "# (b)\n",
    "r = 0.0001\n",
    "\n",
    "R_n = math.exp(r*T/N)\n",
    "q_n = (R_n - d)/(u - d)\n",
    "\n",
    "\n",
    "tree = np.zeros((N+1, N+1))\n",
    "\n",
    "for i in range(N+1):\n",
    "    for j in range(i+1):\n",
    "        tree[i,j] = S_0 * (u**j) * (d**(i-j))\n",
    "\n",
    "price_tree = np.zeros((N+1, N+1))\n",
    "\n",
    "for j in range(N+1):\n",
    "        price_tree[N, j] = max(tree[N, j] - strike, 0)\n",
    "        \n",
    "for i in range(N-1, -1, -1):\n",
    "    for j in range(i+1):\n",
    "        exercise_value = tree[i, j] - strike\n",
    "        continue_value = (q_n * price_tree[i+1, j] + (1 - q_n) * price_tree[i+1, j+1]) / R_n\n",
    "        price_tree[i, j] = max(continue_value, exercise_value)\n",
    "        \n",
    "american_call_price = price_tree[0,0]\n",
    "\n",
    "# American call option price\n",
    "print(\"American Call Option Price:\", american_call_price)\n"
   ]
  },
  {
   "cell_type": "markdown",
   "id": "a29e3e35",
   "metadata": {},
   "source": [
    "# 3\n",
    "\n",
    "$-\\frac{1}{2\\sigma^{2}} \\left[ w - (\\bar{w} + \\sigma^2) \\right]^2 + \\bar{w} +\\frac{\\sigma^2}{2} = -\\frac{1}{2\\sigma^2}(w^2-2w\\bar{w}-2w\\sigma^2+\\bar{w}^2+2\\bar{w}\\sigma^2+\\sigma^4)+\\bar{w} +\\frac{\\sigma^2}{2}$\n",
    "\n",
    "$=-\\frac{1}{2\\sigma^2}(w^2-2w\\bar{w}+\\bar{w}^2)+w-\\bar{w}-\\frac{\\sigma^2}{2}+\\bar{w} +\\frac{\\sigma^2}{2}$\n",
    "$=-\\frac{1}{2\\sigma^2}(w^2-2w\\bar{w}+\\bar{w}^2) + w$\n",
    " $=w -\\frac{(w - \\bar{w})^2}{2\\sigma^2}$  \n",
    " \n",
    "$\\bar{u}=\\frac{1}{\\sigma\\sqrt{2\\pi}} \\int_{-\\infty}^{\\infty} e^{\\frac{-1}{2\\sigma^2}(w - (\\bar{w}+\\sigma^2))^2}e^{\\bar{w}+\\frac{\\sigma^2}{2}}dw$ 에서 $e^{\\bar{w}+\\frac{\\sigma^2}{2}}$는 적분기호 밖으로 뺄 수 있음.  \n",
    " $w$~$N(\\bar{w}+\\sigma^2,\\sigma^2)$ 일 때 $\\bar{u} = \\frac{e^{\\bar{w}+\\frac{\\sigma^2}{2}}}{\\sigma\\sqrt{2\\pi}} \\int_{-\\infty}^{\\infty} e^{\\frac{-1}{2\\sigma^2}(w - (\\bar{w}+\\sigma^2))^2}dw = e^{\\bar{w}+\\frac{\\sigma^2}{2}}$\n",
    " \n"
   ]
  },
  {
   "cell_type": "code",
   "execution_count": 57,
   "id": "db03e8b8",
   "metadata": {},
   "outputs": [
    {
     "name": "stdout",
     "output_type": "stream",
     "text": [
      "Optimal cutting policy: [1. 1. 1. 1. 1. 1. 1. 1. 1. 1.]\n",
      "Value of investment opportunity: -10.518047632550298\n"
     ]
    }
   ],
   "source": [
    "# 4\n",
    "\n",
    "import numpy as np\n",
    "\n",
    "# Parameters\n",
    "u = 1.20\n",
    "d = 0.9\n",
    "interest_rate = 0.10\n",
    "rent = 2.0\n",
    "initial_value_trees = 5.0\n",
    "cost_lease = 2.0\n",
    "\n",
    "# Growth factors for each year\n",
    "growth_factors = [1.6, 1.5, 1.4, 1.3, 1.2, 1.15, 1.1, 1.05, 1.02, 1.01]\n",
    "\n",
    "# Function to calculate present value of future cash flows\n",
    "def present_value(cash_flows, rate):\n",
    "    return np.sum([cf / ((1 + rate) ** i) for i, cf in enumerate(cash_flows)])\n",
    "\n",
    "# Function to calculate optimal cut policy and investment value\n",
    "def optimal_cut_policy(growth_factors, rent, cost_lease, interest_rate):\n",
    "    num_years = len(growth_factors)\n",
    "    value = np.zeros((num_years + 1, num_years + 1))\n",
    "\n",
    "    # Calculate the value of each node starting from the end\n",
    "    for i in range(num_years - 1, -1, -1):\n",
    "        for j in range(i + 1):\n",
    "            value[i, j] = max(growth_factors[i] * value[i + 1, j], rent - cost_lease + (1 - interest_rate) * value[i + 1, j + 1])\n",
    "\n",
    "    # Find the optimal policy\n",
    "    cut_policy = np.zeros(num_years)\n",
    "    wealth = initial_value_trees\n",
    "    for i in range(num_years):\n",
    "        if growth_factors[i] * value[i + 1, int(wealth / rent)] > rent - cost_lease + (1 - interest_rate) * value[i + 1, int(wealth / rent) + 1]:\n",
    "            cut_policy[i] = 0  # Don't cut\n",
    "        else:\n",
    "            cut_policy[i] = 1  # Cut\n",
    "\n",
    "    return cut_policy, present_value([initial_value_trees - cost_lease], interest_rate) + present_value([-rent] * int(sum(cut_policy)), interest_rate)\n",
    "\n",
    "# Calculate optimal cut policy and investment value\n",
    "cut_policy, investment_value = optimal_cut_policy(growth_factors, rent, cost_lease, interest_rate)\n",
    "\n",
    "print(\"Optimal cutting policy:\", cut_policy)\n",
    "print(\"Value of investment opportunity:\", investment_value)\n"
   ]
  },
  {
   "cell_type": "code",
   "execution_count": 30,
   "id": "0ad4007c",
   "metadata": {},
   "outputs": [],
   "source": [
    "# 5\n",
    "def probability_of_ending_with_N_dollars(i, N, p):\n",
    "    # Base cases\n",
    "    if i < 0 or i > N:\n",
    "        return 0\n",
    "    elif i == N:\n",
    "        return 1\n",
    "    elif i == 0:\n",
    "        return 0\n",
    "    \n",
    "\n",
    "    q = 1 - p\n",
    "    return p * probability_of_ending_with_N_dollars(i + 1, N, p) + q * probability_of_ending_with_N_dollars(i - 1, N, p)\n",
    "\n"
   ]
  },
  {
   "cell_type": "markdown",
   "id": "a9d7082a",
   "metadata": {},
   "source": [
    "# Problem 6\n",
    "\n",
    "- 선택을 바꾸는 경우  \n",
    "첫 번째 선택에 차가 있는 문을 선택할 확률: 1/3  →  선택을 바꾼 문에는 무조건 염소가있음 → 1/3 * 0 = 0  \n",
    "첫 번째 선택에 염소가 있는 문을 선택할 확률: 2/3 → 선택을 바꾼 문에는 무조건 차가있음 → 2/3 * 1 = 2/3  \n",
    "\n",
    "- 선택을 바꾸지 않는경우  \n",
    "첫 번째 선택에 차가 있는 문을 선택할 확률: 1/3 → 선택을 바꾸지 않으면 차를 획득 → 1/3 * 1 = 1/3  \n",
    "첫 번째 선택에 염소가 있는 문을 선택할 확률: 2/3 → 선택을 바꾸지 않으면 염소를 획득 → 2/3 * 0 = 0   \n",
    "\n",
    "따라서 선택을 바꿨을 때 차를 얻을 확률이 2/3로 더 높음\n"
   ]
  },
  {
   "cell_type": "code",
   "execution_count": 9,
   "id": "c9a02a7b",
   "metadata": {},
   "outputs": [
    {
     "name": "stdout",
     "output_type": "stream",
     "text": [
      "5\n"
     ]
    }
   ],
   "source": [
    "#7 \n",
    "def maxProfit(prices):\n",
    "    max_profit = 0\n",
    "    n = len(prices)\n",
    "    \n",
    "\n",
    "    buy = 0\n",
    "    sell = 0\n",
    "    \n",
    "    while sell < n:\n",
    "        if prices[sell] < prices[buy]:\n",
    "            buy = sell\n",
    "        elif prices[sell] - prices[buy] > max_profit:\n",
    "            max_profit = prices[sell] - prices[buy]\n",
    "        sell += 1\n",
    "    \n",
    "    return max_profit\n",
    "\n",
    "\n",
    "prices1 = [7, 1, 5, 3, 6, 4]\n",
    "print(maxProfit(prices1)) \n",
    "\n",
    "\n"
   ]
  },
  {
   "cell_type": "code",
   "execution_count": 10,
   "id": "d46194f8",
   "metadata": {},
   "outputs": [
    {
     "name": "stdout",
     "output_type": "stream",
     "text": [
      "0\n",
      "2\n",
      "-1\n"
     ]
    }
   ],
   "source": [
    "#8\n",
    "\n",
    "from collections import Counter\n",
    "\n",
    "def firstUniqChar(s: str) -> int:\n",
    "    count = Counter(s)\n",
    "    \n",
    "    for i, char in enumerate(s):\n",
    "        if count[char] == 1:\n",
    "            return i\n",
    "    \n",
    "\n",
    "    return -1\n",
    "\n",
    "\n",
    "print(firstUniqChar(\"leetcode\"))    \n",
    "print(firstUniqChar(\"loveleetcode\"))    \n",
    "print(firstUniqChar(\"aabb\")) \n"
   ]
  }
 ],
 "metadata": {
  "kernelspec": {
   "display_name": "Python 3 (ipykernel)",
   "language": "python",
   "name": "python3"
  },
  "language_info": {
   "codemirror_mode": {
    "name": "ipython",
    "version": 3
   },
   "file_extension": ".py",
   "mimetype": "text/x-python",
   "name": "python",
   "nbconvert_exporter": "python",
   "pygments_lexer": "ipython3",
   "version": "3.11.4"
  }
 },
 "nbformat": 4,
 "nbformat_minor": 5
}
