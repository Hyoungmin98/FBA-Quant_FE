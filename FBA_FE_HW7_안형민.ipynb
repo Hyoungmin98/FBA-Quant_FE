{
 "cells": [
  {
   "cell_type": "code",
   "execution_count": 25,
   "id": "0546b1d4",
   "metadata": {},
   "outputs": [
    {
     "name": "stdout",
     "output_type": "stream",
     "text": [
      "Initial Call Option Price: 7.3419869851043735\n",
      "Initial Put Option Price: 6.597583965257499\n"
     ]
    }
   ],
   "source": [
    "# 2\n",
    "\n",
    "from scipy.stats import norm\n",
    "import numpy as np\n",
    "\n",
    "S0 = 50\n",
    "K = 50\n",
    "T = 0.5\n",
    "sigma = 0.50\n",
    "r = 0.03\n",
    "c = 0\n",
    "\n",
    "def black_scholes_call(S0, K, T, sigma, r, q):\n",
    "    d1 = (np.log(S0 / K) + (r - c + sigma**2 / 2) * T) / (sigma * np.sqrt(T))\n",
    "    d2 = d1 - sigma * np.sqrt(T)\n",
    "    call_price = S0 * np.exp(-q * T) * norm.cdf(d1) - K * np.exp(-r * T) * norm.cdf(d2)\n",
    "    return call_price\n",
    "\n",
    "\n",
    "initial_call_price = black_scholes_call(S0, K, T, sigma, r, c)\n",
    "print(\"Initial Call Option Price:\", initial_call_price)\n",
    "\n",
    "# Put-Call Parity\n",
    "def Put_Price(C, S0, c, T, r, K):\n",
    "    Put_Option = C + K* np.exp(-r*T) - S0 * np.exp(-c*T)\n",
    "    return Put_Option\n",
    "\n",
    "initial_Put_Price = Put_Price(initial_call_price, S0, c, T, r, K)  \n",
    "print(\"Initial Put Option Price:\", initial_Put_Price)\n",
    " "
   ]
  },
  {
   "cell_type": "markdown",
   "id": "50a9777e",
   "metadata": {},
   "source": [
    "(2-b)  \n",
    "Time to expiration이 증가하면 Call Option Price도 증가  \n",
    "Exercise price이 증가하면 Call Option Price는 감소\n",
    "Stock price이 증가하면 Call Option Price도 증가  \n",
    "Annual interest rate이 증가하면 Call Option Price도 증가  \n",
    "Standard deviation이 증가하면 Call OPtion Price도 증가  \n"
   ]
  },
  {
   "cell_type": "code",
   "execution_count": 36,
   "id": "65bf7e4b",
   "metadata": {},
   "outputs": [
    {
     "name": "stdout",
     "output_type": "stream",
     "text": [
      "Call Price at 30% volatility: 14.231254785985819\n",
      "Vega at 30% volatility: 6.82107151240772\n"
     ]
    }
   ],
   "source": [
    "# 4\n",
    "\n",
    "from scipy.stats import norm\n",
    "import numpy as np\n",
    "\n",
    "\n",
    "std_cons = 0.3\n",
    "mean = 0.3      \n",
    "std_dev = 0.1  \n",
    "sample_size = 1000 \n",
    "\n",
    "data = np.random.normal(mean, std_dev, size=sample_size)\n",
    "calculated_std_dev = np.std(data)\n",
    "\n",
    "S = 100\n",
    "K = 100\n",
    "T = 1.0\n",
    "sigma = 0.30\n",
    "r = 0.05   \n",
    "\n",
    "def black_scholes_vega(S, K, T, sigma, r):\n",
    "    d1 = (np.log(S / K) + (r + sigma**2 / 2) * T) / (sigma * np.sqrt(T))\n",
    "    vega = S * np.sqrt(T) * norm.pdf(d1)\n",
    "    return vega\n",
    "\n",
    "def option_price(S, K, T, sigma, r):\n",
    "    d1 = (np.log(S / K) + (r + sigma**2 / 2) * T) / (sigma * np.sqrt(T))\n",
    "    d2 = d1 - sigma * np.sqrt(T)\n",
    "    call_price = S * norm.cdf(d1) - K * np.exp(-r * T) * norm.cdf(d2)\n",
    "    return call_price    \n",
    "\n",
    "# Calculate call price and Vega at 30% volatility\n",
    "call_price_constant = option_price(S, K, T, sigma, r)\n",
    "call_price_rand = option_price(S, K, T, calculated_std_dev, r)\n",
    "\n",
    "print(\"Call Price at 30% volatility:\", call_price_constant)\n",
    "print(\"Call Price random distribution volatility:\", call_price_rand)\n"
   ]
  },
  {
   "cell_type": "code",
   "execution_count": 37,
   "id": "1c857e00",
   "metadata": {},
   "outputs": [
    {
     "name": "stdout",
     "output_type": "stream",
     "text": [
      "[[-1, -1, 2], [-1, 0, 1]]\n",
      "[]\n"
     ]
    }
   ],
   "source": [
    "# 5\n",
    "\n",
    "def three_sum(nums):\n",
    "    nums.sort()  \n",
    "    result = []\n",
    "    \n",
    "    for i in range(len(nums)):\n",
    "        if i > 0 and nums[i] == nums[i - 1]:\n",
    "            continue \n",
    "        \n",
    "        left, right = i + 1, len(nums) - 1\n",
    "        while left < right:\n",
    "            current_sum = nums[i] + nums[left] + nums[right]\n",
    "            if current_sum < 0:\n",
    "                left += 1 \n",
    "            elif current_sum > 0:\n",
    "                right -= 1  \n",
    "            else:\n",
    "                result.append([nums[i], nums[left], nums[right]])\n",
    "                left += 1\n",
    "                right -= 1\n",
    "              \n",
    "                while left < right and nums[left] == nums[left - 1]:\n",
    "                    left += 1\n",
    "                while left < right and nums[right] == nums[right + 1]:\n",
    "                    right -= 1\n",
    "    \n",
    "    return result\n",
    "\n",
    "print(three_sum([-1, 0, 1, 2, -1, -4])) \n",
    "print(three_sum([0, 1, 1]))  \n"
   ]
  },
  {
   "cell_type": "code",
   "execution_count": null,
   "id": "9aca3756",
   "metadata": {},
   "outputs": [],
   "source": [
    "# 6\n",
    "\n",
    "def is_happy(n):\n",
    "    def sum_of_squares(num):\n",
    "        total_sum = 0\n",
    "        while num > 0:\n",
    "            digit = num % 10\n",
    "            total_sum += digit * digit\n",
    "            num //= 10\n",
    "        return total_sum\n",
    "\n",
    "    seen = set()\n",
    "    while n != 1 and n not in seen:\n",
    "        seen.add(n)\n",
    "        n = sum_of_squares(n)\n",
    "    \n",
    "    return n == 1\n",
    "\n",
    "\n",
    "print(is_happy(19)) \n"
   ]
  }
 ],
 "metadata": {
  "kernelspec": {
   "display_name": "Python 3 (ipykernel)",
   "language": "python",
   "name": "python3"
  },
  "language_info": {
   "codemirror_mode": {
    "name": "ipython",
    "version": 3
   },
   "file_extension": ".py",
   "mimetype": "text/x-python",
   "name": "python",
   "nbconvert_exporter": "python",
   "pygments_lexer": "ipython3",
   "version": "3.11.4"
  }
 },
 "nbformat": 4,
 "nbformat_minor": 5
}
