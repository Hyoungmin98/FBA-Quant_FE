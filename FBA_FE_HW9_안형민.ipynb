{
 "cells": [
  {
   "cell_type": "code",
   "execution_count": 1,
   "id": "3e433320",
   "metadata": {},
   "outputs": [
    {
     "name": "stdout",
     "output_type": "stream",
     "text": [
      "0.5714285714285714\n"
     ]
    }
   ],
   "source": [
    "# Problem 1\n",
    "\n",
    "def M_Prob(i,m,p):\n",
    "    return (1 - ((1-p)/p)**i) / (1-((1-p)/p)**m)\n",
    "\n",
    "print(M_Prob(1,3,2/3))\n",
    "\n",
    "\n"
   ]
  },
  {
   "cell_type": "code",
   "execution_count": 92,
   "id": "b6091a10",
   "metadata": {},
   "outputs": [
    {
     "name": "stdout",
     "output_type": "stream",
     "text": [
      "5개의 공이 모두 같은 색이 될 때까지의 예상 단계 수: 16\n"
     ]
    }
   ],
   "source": [
    "# Problem 2\n",
    "import random\n",
    "\n",
    "def simulation(n):\n",
    "    balls = list(range(n))\n",
    "    steps = 0\n",
    "    \n",
    "    while len(set(balls)) > 1:\n",
    "        a, b = random.sample(range(n), 2)\n",
    "        balls[a] = balls[b]\n",
    "        steps += 1\n",
    "    \n",
    "    return steps\n",
    "\n",
    "def expected_steps(n, trials):\n",
    "    total_steps = 0\n",
    "    for _ in range(trials):\n",
    "        total_steps += simulation(n)\n",
    "    return total_steps / trials\n",
    "\n",
    "\n",
    "trials = 10000\n",
    "n = 5\n",
    "result = int(expected_steps(n, trials))\n",
    "\n",
    "print(f\"{n}개의 공이 모두 같은 색이 될 때까지의 예상 단계 수:\", result)"
   ]
  },
  {
   "cell_type": "code",
   "execution_count": 4,
   "id": "d5809da1",
   "metadata": {},
   "outputs": [
    {
     "name": "stdout",
     "output_type": "stream",
     "text": [
      "[['eat', 'tea', 'ate'], ['tan', 'nat'], ['bat']]\n"
     ]
    }
   ],
   "source": [
    "# Problem 3\n",
    "\n",
    "from collections import defaultdict\n",
    "\n",
    "def groupAnagrams(strs):\n",
    "    anagrams = defaultdict(list)\n",
    "    \n",
    "    for s in strs:\n",
    "        sorted_s = ''.join(sorted(s))\n",
    "        anagrams[sorted_s].append(s)\n",
    "    \n",
    "    return list(anagrams.values())\n",
    "\n",
    "# Example usage\n",
    "strs = [\"eat\",\"tea\",\"tan\",\"ate\",\"nat\",\"bat\"]\n",
    "result = groupAnagrams(strs)\n",
    "print(result)\n"
   ]
  },
  {
   "cell_type": "code",
   "execution_count": 7,
   "id": "5e8e7580",
   "metadata": {},
   "outputs": [
    {
     "name": "stdout",
     "output_type": "stream",
     "text": [
      "Input: columnTitle = 'AD'\n",
      "Output: 30\n"
     ]
    }
   ],
   "source": [
    "# Problem 4\n",
    "\n",
    "def titleToNumber(columnTitle):\n",
    "    result = 0\n",
    "    for char in columnTitle:\n",
    "        result = result * 26 + (ord(char) - ord('A') + 1)\n",
    "    return result\n",
    "\n",
    "# Example usage\n",
    "columnTitle = \"AD\"\n",
    "print(f\"Input: columnTitle = '{columnTitle}'\")\n",
    "print(f\"Output: {titleToNumber(columnTitle)}\")"
   ]
  }
 ],
 "metadata": {
  "kernelspec": {
   "display_name": "Python 3 (ipykernel)",
   "language": "python",
   "name": "python3"
  },
  "language_info": {
   "codemirror_mode": {
    "name": "ipython",
    "version": 3
   },
   "file_extension": ".py",
   "mimetype": "text/x-python",
   "name": "python",
   "nbconvert_exporter": "python",
   "pygments_lexer": "ipython3",
   "version": "3.11.4"
  }
 },
 "nbformat": 4,
 "nbformat_minor": 5
}
